{
 "cells": [
  {
   "cell_type": "markdown",
   "metadata": {},
   "source": [
    "This document discusses the preprocessing steps I took create the CSV files."
   ]
  },
  {
   "cell_type": "code",
   "execution_count": 3,
   "metadata": {
    "collapsed": true
   },
   "outputs": [],
   "source": [
    "from bs4 import BeautifulSoup\n",
    "from requests import get\n",
    "import io\n",
    "import math\n",
    "import time\n",
    "import dateparser\n",
    "\n",
    "\n",
    "base_url = \"https://thegradcafe.com/survey/index.php\"\n",
    "per_page = 250\n",
    "def generate_url(search_string, page_num=1):\n",
    "    return base_url + \"?q=\" + '+'.join(search_string.split()) + \"&t=a&o=&pp={}&p={}\".format(per_page, page_num)\n",
    "\n",
    "headers = {'User-Agent': 'Mozilla/5.0 (Windows NT 10.0; Win64; x64) AppleWebKit/5'}\n",
    "response = get(generate_url(\"njit\"), headers=headers)\n",
    "\n",
    "html_soup = BeautifulSoup(response.text, 'html.parser')\n",
    "table = html_soup.find_all('table', class_='results narrow-table')\n",
    "table_rows = table[0].find_all('tr')[1:]"
   ]
  },
  {
   "cell_type": "markdown",
   "metadata": {
    "collapsed": true
   },
   "source": [
    "After generating appropriate links and obtaining a HTML table from the website, the table will need to be parsed and cleaned\n",
    "appropriately to obtain the necessary data. Displayed below is one column of the table obtained from thegradcafe.com."
   ]
  },
  {
   "cell_type": "code",
   "execution_count": 7,
   "metadata": {},
   "outputs": [
    {
     "data": {
      "text/plain": [
       "<tr class=\"row0\" onmouseout=\"hideControlsBox(this);\" onmouseover=\"showControlsBox(this,584557);\"><td class=\"instcol\">New Jersey Institute Of Technology ( NJIT )</td><td>Business Data Science, PhD (F18)</td><td><span class=\"dRejected\">Rejected</span> via E-mail on 13 Mar 2018 <a class=\"extinfo\" href=\"#\"><span><strong>Undergrad GPA</strong>: n/a<br/><strong>GRE General (V/Q/W)</strong>: 160/151/4.00<br/><strong>GRE Subject</strong>: n/a<br/></span>♦</a></td><td>I</td><td class=\"datecol\">15 Mar 2018</td><td><ul class=\"control\"><li class=\"controlspam\"></li><li>cu*ulative GPA: 2.8\n",
       "ME GPA: 3.91\n",
       "\n",
       "</li></ul></td></tr>"
      ]
     },
     "execution_count": 7,
     "metadata": {},
     "output_type": "execute_result"
    }
   ],
   "source": [
    "dat = table_rows[0]\n",
    "stats = dat.find_all('td')[2]\n",
    "dat"
   ]
  },
  {
   "cell_type": "markdown",
   "metadata": {},
   "source": [
    "First, I deal with the most important, complicated part of the table (the third column). This column includes important data\n",
    "such as the posters GPA, GRE, acceptance status, etc...\n",
    "This is tricky since the information in this clolumn is not consistent. The poster may not include his or her statistics. They\n",
    "may not even post acceptance status (might just be informing about interviews, or asking questions)"
   ]
  },
  {
   "cell_type": "code",
   "execution_count": 61,
   "metadata": {
    "collapsed": true
   },
   "outputs": [],
   "source": [
    "dat = table_rows[0]\n",
    "stats = dat.find_all('td')[2]"
   ]
  },
  {
   "cell_type": "code",
   "execution_count": 62,
   "metadata": {},
   "outputs": [
    {
     "data": {
      "text/plain": [
       "<td><span class=\"dRejected\">Rejected</span> via E-mail on 13 Mar 2018 <a class=\"extinfo\" href=\"#\"><span><strong>Undergrad GPA</strong>: n/a<br/><strong>GRE General (V/Q/W)</strong>: 160/151/4.00<br/><strong>GRE Subject</strong>: n/a<br/></span>♦</a></td>"
      ]
     },
     "execution_count": 62,
     "metadata": {},
     "output_type": "execute_result"
    }
   ],
   "source": [
    "stats"
   ]
  },
  {
   "cell_type": "code",
   "execution_count": 63,
   "metadata": {
    "collapsed": true
   },
   "outputs": [],
   "source": [
    "tokens = stats.text.split()\n",
    "# status = stats.find('span').text\n",
    "status = tokens[0]\n",
    "notified = tokens[2]\n",
    "\n",
    "if(status=='Wait'):\n",
    "    status=tokens[0]+tokens[1]\n",
    "    notified = tokens[3]\n",
    "    \n",
    "index = stats.text.index(' on ')\n",
    "tokens = stats.text[index:].split()\n",
    "\n",
    "date = \"-\".join(tokens[1:4])"
   ]
  },
  {
   "cell_type": "code",
   "execution_count": 64,
   "metadata": {},
   "outputs": [
    {
     "data": {
      "text/plain": [
       "('Rejected', 'E-mail', '13-Mar-2018')"
      ]
     },
     "execution_count": 64,
     "metadata": {},
     "output_type": "execute_result"
    }
   ],
   "source": [
    "status, notified, date  #dateparser.parse(date).year, dateparser.parse(date).month, dateparser.parse(date).day"
   ]
  },
  {
   "cell_type": "markdown",
   "metadata": {},
   "source": [
    "This part extracts GPA and GRE scores if they exist. The values may still be n/a."
   ]
  },
  {
   "cell_type": "code",
   "execution_count": 8,
   "metadata": {
    "collapsed": true
   },
   "outputs": [],
   "source": [
    "ext_info = stats.find('a')\n",
    "if(ext_info != None):\n",
    "    raw_gpa = ext_info.find('span').contents[1]\n",
    "    for c in \": \":\n",
    "        raw_gpa = raw_gpa.replace(c,\"\")\n",
    "    gpa = raw_gpa\n",
    "    \n",
    "    raw_gre = stats.find('a').find('span').contents[4]\n",
    "    for c in \": \":\n",
    "        raw_gre = raw_gre.replace(c,\"\")\n",
    "    greV,greQ,greW = raw_gre.split('/')"
   ]
  },
  {
   "cell_type": "markdown",
   "metadata": {},
   "source": [
    "These values are only relevant for posts that contain them."
   ]
  },
  {
   "cell_type": "code",
   "execution_count": 9,
   "metadata": {},
   "outputs": [
    {
     "data": {
      "text/plain": [
       "('n/a', '160', '151', '4.00')"
      ]
     },
     "execution_count": 9,
     "metadata": {},
     "output_type": "execute_result"
    }
   ],
   "source": [
    "gpa,greV,greQ,greW"
   ]
  },
  {
   "cell_type": "markdown",
   "metadata": {},
   "source": [
    "Now we process the other columns of the table one by one\n",
    "<br>\n",
    "Column 1:"
   ]
  },
  {
   "cell_type": "code",
   "execution_count": 67,
   "metadata": {},
   "outputs": [
    {
     "name": "stdout",
     "output_type": "stream",
     "text": [
      "New Jersey Institute Of Technology ( NJIT )\n"
     ]
    },
    {
     "data": {
      "text/plain": [
       "'New Jersey Institute Of Technology '"
      ]
     },
     "execution_count": 67,
     "metadata": {},
     "output_type": "execute_result"
    }
   ],
   "source": [
    "name = dat.find_all('td')[0].text\n",
    "name = name.replace(',',' ')\n",
    "print(name)\n",
    "name = name.split('(')[0]\n",
    "name"
   ]
  },
  {
   "cell_type": "markdown",
   "metadata": {},
   "source": [
    "Column 2:"
   ]
  },
  {
   "cell_type": "code",
   "execution_count": 160,
   "metadata": {},
   "outputs": [
    {
     "data": {
      "text/plain": [
       "('Mechanical Engineering', ' Masters ', 'F')"
      ]
     },
     "execution_count": 160,
     "metadata": {},
     "output_type": "execute_result"
    }
   ],
   "source": [
    "major, degree = dat.find_all('td')[1].text.split(',')\n",
    "degree, semester = degree.split('(')\n",
    "semester = semester[0]\n",
    "major, degree,semester"
   ]
  },
  {
   "cell_type": "markdown",
   "metadata": {},
   "source": [
    "Column 4:\n",
    "<br>\n",
    "This column indicates if the poster is a graduate from an American University or not.\n",
    "<br><br>\n",
    "codes: A: American; U: International, with US degree; I: International, without US degree; O: Other; ?: Unknown"
   ]
  },
  {
   "cell_type": "code",
   "execution_count": 168,
   "metadata": {},
   "outputs": [
    {
     "data": {
      "text/plain": [
       "'A'"
      ]
     },
     "execution_count": 168,
     "metadata": {},
     "output_type": "execute_result"
    }
   ],
   "source": [
    "nationality = dat.find_all('td')[3].text\n",
    "nationality"
   ]
  },
  {
   "cell_type": "markdown",
   "metadata": {},
   "source": [
    "Column 5:\n",
    "This column indicates the date "
   ]
  },
  {
   "cell_type": "code",
   "execution_count": 173,
   "metadata": {},
   "outputs": [
    {
     "data": {
      "text/plain": [
       "'11-Feb-2018'"
      ]
     },
     "execution_count": 173,
     "metadata": {},
     "output_type": "execute_result"
    }
   ],
   "source": [
    "post_date = '-'.join(dat.find_all('td')[4].text.split())\n",
    "post_date"
   ]
  },
  {
   "cell_type": "markdown",
   "metadata": {},
   "source": [
    "Column 6:\n",
    "<br>\n",
    "This column is simply the posters comment. This column may contain anything that the poster wanted to say. And it is common\n",
    "for people to post more details about their application, such as the number of publications, letters of recommendation, etc...\n",
    "<br>\n",
    "It may be valuble to extract some information from this raw text later on."
   ]
  },
  {
   "cell_type": "code",
   "execution_count": 200,
   "metadata": {},
   "outputs": [
    {
     "data": {
      "text/plain": [
       "'Did anyone else check the website and it says \"admitted\" with no other explanation?'"
      ]
     },
     "execution_count": 200,
     "metadata": {},
     "output_type": "execute_result"
    }
   ],
   "source": [
    "comment = dat.find_all('td')[5].text\n",
    "bad_chars = '\\n,'\n",
    "for c in bad_chars:\n",
    "    comment = comment.replace(c,\" \")\n",
    "comment"
   ]
  },
  {
   "cell_type": "code",
   "execution_count": 184,
   "metadata": {},
   "outputs": [
    {
     "data": {
      "text/plain": [
       "('New Jersey Institute Of Technology ',\n",
       " 'Mechanical Engineering',\n",
       " ' Masters ',\n",
       " 'F',\n",
       " 'Other',\n",
       " 'Website',\n",
       " '1-Feb-2018',\n",
       " '3.50',\n",
       " '150',\n",
       " '168',\n",
       " '3.00',\n",
       " 'A',\n",
       " '11-Feb-2018',\n",
       " 'Did anyone else check the website and it says \"admitted\" with no other explanation?')"
      ]
     },
     "execution_count": 184,
     "metadata": {},
     "output_type": "execute_result"
    }
   ],
   "source": [
    "name, major, degree,semester, status, notified, date, gpa,greV,greQ,greW, nationality, post_date, comment"
   ]
  },
  {
   "cell_type": "markdown",
   "metadata": {},
   "source": [
    "This function will be used to process each row I obtain from the website."
   ]
  },
  {
   "cell_type": "code",
   "execution_count": 201,
   "metadata": {
    "collapsed": true
   },
   "outputs": [],
   "source": [
    "def process_row(dat):\n",
    "    gpa, greV, greQ, greW = 'n/a', 'n/a', 'n/a', 'n/a'\n",
    "\n",
    "    # Column 1:\n",
    "    name = dat.find_all('td')[0].text\n",
    "    name = name.split('(')[0]\n",
    "\n",
    "    # Column 2:\n",
    "    vals = dat.find_all('td')[1].text.split(',')\n",
    "    major, degree = vals[0],vals[1]\n",
    "    degree, semester = vals[-1].split('(')\n",
    "    semester = semester[0]\n",
    "\n",
    "    # Column 3\n",
    "    stats = dat.find_all('td')[2]\n",
    "    tokens = stats.text.split()\n",
    "    # status = stats.find('span').text\n",
    "    status = tokens[0]\n",
    "\n",
    "    notified = tokens[2]\n",
    "    date = \"-\".join(tokens[4:7])\n",
    "    ext_info = stats.find('a')\n",
    "    if (ext_info != None):\n",
    "        raw_gpa = ext_info.find('span').contents[1]\n",
    "        for c in \": \":\n",
    "            raw_gpa = raw_gpa.replace(c, \"\")\n",
    "        gpa = raw_gpa\n",
    "\n",
    "        raw_gre = stats.find('a').find('span').contents[4]\n",
    "        for c in \": \":\n",
    "            raw_gre = raw_gre.replace(c, \"\")\n",
    "        greV, greQ, greW = raw_gre.split('/')\n",
    "\n",
    "    # Column 4:\n",
    "    nationality = dat.find_all('td')[3].text\n",
    "\n",
    "    # Column 5:\n",
    "    post_date = '-'.join(dat.find_all('td')[4].text.split())\n",
    "\n",
    "    # Column 6:\n",
    "    comment = dat.find_all('td')[5].text\n",
    "    bad_chars = '\\n,'\n",
    "    for c in bad_chars:\n",
    "        comment = comment.replace(c,\"\")\n",
    "\n",
    "    return [name, major, degree, semester, status, notified, date, gpa, greV, greQ, greW, nationality, post_date,\n",
    "            comment]\n"
   ]
  },
  {
   "cell_type": "code",
   "execution_count": 203,
   "metadata": {},
   "outputs": [
    {
     "name": "stdout",
     "output_type": "stream",
     "text": [
      "['New Jersey Institute Of Technology ', 'Business Data Science', ' PhD ', 'F', 'Rejected', 'E-mail', '13-Mar-2018', 'n/a', '160', '151', '4.00', 'I', '15-Mar-2018', 'cu*ulative GPA: 2.8\\rME GPA: 3.91\\r\\r']\n",
      "['New Jersey Institute Of Technology ', 'Mathematical Sciences', ' PhD ', 'F', 'Accepted', 'E-mail', '21-Feb-2018', 'n/a', 'n/a', 'n/a', 'n/a', 'A', '28-Feb-2018', '']\n"
     ]
    }
   ],
   "source": [
    "print(process_row(table_rows[0]))\n",
    "print(process_row(table_rows[1]))"
   ]
  }
 ],
 "metadata": {
  "kernelspec": {
   "display_name": "Python 3",
   "language": "python",
   "name": "python3"
  },
  "language_info": {
   "codemirror_mode": {
    "name": "ipython",
    "version": 3
   },
   "file_extension": ".py",
   "mimetype": "text/x-python",
   "name": "python",
   "nbconvert_exporter": "python",
   "pygments_lexer": "ipython3",
   "version": "3.6.3"
  }
 },
 "nbformat": 4,
 "nbformat_minor": 2
}
