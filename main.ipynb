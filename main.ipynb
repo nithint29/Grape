{
 "cells": [
  {
   "cell_type": "markdown",
   "metadata": {},
   "source": [
    "Nithin Tammishetti\n",
    "<br>\n",
    "158001785"
   ]
  },
  {
   "cell_type": "markdown",
   "metadata": {},
   "source": [
    "## Collecting and Analyzing Graduate School Application Data "
   ]
  },
  {
   "cell_type": "markdown",
   "metadata": {},
   "source": [
    "### Project Goals\n",
    "As I applied to various graduate programs, one of my biggest sources of frustration was the lack of proper acceptance/rejection data for all of the grad schools that I applied to. But after some searching I found one online forum where students post their results anonymously: thegradcafe.com. However, the posts can be very vague and it can be frustrating to sift through the giant mound of date trying to compare your application strength with that of other students. I had spent countless hours sifting through each post, comparing my statistics with thos of other accepted/rejected students."
   ]
  },
  {
   "cell_type": "markdown",
   "metadata": {},
   "source": [
    "The purpose of my project is to provide an easy way for students to access and summarize acceptance data. The project aims to collect and process the mountain of data available from thegradcafe.com into a viable format for analysis. The project will provide students with clean summaries and visualizations of the forum's data. In the end, I hope to provide a mechanism by which applicants can measure their likelihood of acceptance, and plan accordingly. No one wants to wait for a university's response for months, only to find a rejection."
   ]
  },
  {
   "cell_type": "markdown",
   "metadata": {},
   "source": [
    "### Data Source and Collection"
   ]
  },
  {
   "cell_type": "markdown",
   "metadata": {},
   "source": [
    "The source of the data is this website: https://thegradcafe.com/survey/index.php\n",
    "<br><br>\n",
    "\n",
    "Data is collected and saved using the code in scraper.py. The main function of the script is get_data(Search_String, filename). The function takes two parameters, the string you wish to search by and the filename to save to.\n",
    "<br><br>\n",
    "For example: get_data('Rutgers University', 'rutgers.csv') will scrape the website for Rutgers' data and generate a csv file.\n",
    "\n",
    "The preprocessing steps are described in detail in the notebook file 'Cleaning.ipynb'. The data format is describe below."
   ]
  },
  {
   "cell_type": "markdown",
   "metadata": {},
   "source": [
    "### Data Format"
   ]
  },
  {
   "cell_type": "markdown",
   "metadata": {},
   "source": [
    "The data is scraped from HTML tables that the script will query from the website. For a given search string, the result is a collection of HTML tables spread across many pages. The script will join all of these tables, clean their content, and save the results to a CSV file.\n",
    "\n",
    "The contents of the resulting CSV files are describe below:\n",
    "\n",
    "Name: The name of the university\n",
    "\n",
    "Major: The major indicated by the poster\n",
    "\n",
    "Degree: Masters or PhD\n",
    "\n",
    "Status: Accepted, Rejected, Waitlisted, or Other (Other is simply somthing posters use to post questions)\n",
    "\n",
    "Notification: The method that the applicant was notified via (about their acceptance/rejection)\n",
    "\n",
    "Date: Notification date (when they received their response)\n",
    "\n",
    "GPA,GREV,GREQ,GREW: The applicants' GPA and GRE scores\n",
    "\n",
    "Nationality: The nationality code of the applicant \n",
    "<br>(codes: A: American; U: International, with US degree; I: International, without US degree; O: Other; ?: Unknown)\n",
    "\n",
    "Post_Date: The date the post was submitted\n",
    "\n",
    "Comment: The posters personal comment\n"
   ]
  },
  {
   "cell_type": "markdown",
   "metadata": {},
   "source": [
    "### Data Analysis and Visualization\n",
    "The notebook named 'Cleaning' describes the initial preprocessing measures that I took to generate clean csv files from \n",
    "thegradcafe.com. Here I hope to demonstrate what can be done with this data and provide useful visualizations."
   ]
  },
  {
   "cell_type": "code",
   "execution_count": 90,
   "metadata": {
    "collapsed": true
   },
   "outputs": [],
   "source": [
    "import pandas as pd\n",
    "import numpy as np\n",
    "%matplotlib inline\n",
    "import matplotlib.pyplot as plt\n",
    "from scraper import generate_url, get_data #This is the scraper that I wrote to generate csv files from thegradcafe.com"
   ]
  },
  {
   "cell_type": "code",
   "execution_count": null,
   "metadata": {
    "collapsed": true
   },
   "outputs": [],
   "source": []
  },
  {
   "cell_type": "code",
   "execution_count": 4,
   "metadata": {},
   "outputs": [
    {
     "data": {
      "text/html": [
       "<div>\n",
       "<style>\n",
       "    .dataframe thead tr:only-child th {\n",
       "        text-align: right;\n",
       "    }\n",
       "\n",
       "    .dataframe thead th {\n",
       "        text-align: left;\n",
       "    }\n",
       "\n",
       "    .dataframe tbody tr th {\n",
       "        vertical-align: top;\n",
       "    }\n",
       "</style>\n",
       "<table border=\"1\" class=\"dataframe\">\n",
       "  <thead>\n",
       "    <tr style=\"text-align: right;\">\n",
       "      <th></th>\n",
       "      <th>Major</th>\n",
       "      <th>Degree</th>\n",
       "      <th>Semester</th>\n",
       "      <th>Status</th>\n",
       "      <th>Notification</th>\n",
       "      <th>Date</th>\n",
       "      <th>GPA</th>\n",
       "      <th>GREV</th>\n",
       "      <th>GREQ</th>\n",
       "      <th>GREW</th>\n",
       "      <th>Nationality</th>\n",
       "      <th>Post_Date</th>\n",
       "      <th>Comment</th>\n",
       "    </tr>\n",
       "    <tr>\n",
       "      <th>Name</th>\n",
       "      <th></th>\n",
       "      <th></th>\n",
       "      <th></th>\n",
       "      <th></th>\n",
       "      <th></th>\n",
       "      <th></th>\n",
       "      <th></th>\n",
       "      <th></th>\n",
       "      <th></th>\n",
       "      <th></th>\n",
       "      <th></th>\n",
       "      <th></th>\n",
       "      <th></th>\n",
       "    </tr>\n",
       "  </thead>\n",
       "  <tbody>\n",
       "    <tr>\n",
       "      <th>\bStanford University</th>\n",
       "      <td>Philosophy</td>\n",
       "      <td>PhD</td>\n",
       "      <td>F</td>\n",
       "      <td>Rejected</td>\n",
       "      <td>E-mail</td>\n",
       "      <td>23-Mar-2018</td>\n",
       "      <td>n/a</td>\n",
       "      <td>n/a</td>\n",
       "      <td>n/a</td>\n",
       "      <td>n/a</td>\n",
       "      <td>I</td>\n",
       "      <td>24-Mar-2018</td>\n",
       "      <td>NaN</td>\n",
       "    </tr>\n",
       "    <tr>\n",
       "      <th>\bStanford University</th>\n",
       "      <td>Philosophy</td>\n",
       "      <td>PhD</td>\n",
       "      <td>F</td>\n",
       "      <td>Rejected</td>\n",
       "      <td>E-mail</td>\n",
       "      <td>23-Mar-2018</td>\n",
       "      <td>n/a</td>\n",
       "      <td>n/a</td>\n",
       "      <td>n/a</td>\n",
       "      <td>n/a</td>\n",
       "      <td>A</td>\n",
       "      <td>23-Mar-2018</td>\n",
       "      <td>NaN</td>\n",
       "    </tr>\n",
       "    <tr>\n",
       "      <th>\bStanford University</th>\n",
       "      <td>(Computer Science</td>\n",
       "      <td>Masters</td>\n",
       "      <td>F</td>\n",
       "      <td>Other</td>\n",
       "      <td>Other</td>\n",
       "      <td>23-Mar-2018</td>\n",
       "      <td>n/a</td>\n",
       "      <td>n/a</td>\n",
       "      <td>n/a</td>\n",
       "      <td>n/a</td>\n",
       "      <td>O</td>\n",
       "      <td>23-Mar-2018</td>\n",
       "      <td>To the posts regarding admits for Stanford  is...</td>\n",
       "    </tr>\n",
       "    <tr>\n",
       "      <th>Stanford University</th>\n",
       "      <td>Energy Resource Engineering (Petroleum)</td>\n",
       "      <td>Masters</td>\n",
       "      <td>F</td>\n",
       "      <td>Other</td>\n",
       "      <td>Other</td>\n",
       "      <td>23-Mar-2018</td>\n",
       "      <td>n/a</td>\n",
       "      <td>n/a</td>\n",
       "      <td>n/a</td>\n",
       "      <td>n/a</td>\n",
       "      <td>I</td>\n",
       "      <td>23-Mar-2018</td>\n",
       "      <td>Anyone still waiting for Energy Resource / Pet...</td>\n",
       "    </tr>\n",
       "    <tr>\n",
       "      <th>\bStanford University</th>\n",
       "      <td>Department Of Materials Science And Engineering</td>\n",
       "      <td>Masters</td>\n",
       "      <td>F</td>\n",
       "      <td>Accepted</td>\n",
       "      <td>E-mail</td>\n",
       "      <td>22-Mar-2018</td>\n",
       "      <td>n/a</td>\n",
       "      <td>n/a</td>\n",
       "      <td>n/a</td>\n",
       "      <td>n/a</td>\n",
       "      <td>I</td>\n",
       "      <td>22-Mar-2018</td>\n",
       "      <td>NaN</td>\n",
       "    </tr>\n",
       "  </tbody>\n",
       "</table>\n",
       "</div>"
      ],
      "text/plain": [
       "                                                                Major  \\\n",
       "Name                                                                    \n",
       "\bStanford University                                       Philosophy   \n",
       "\bStanford University                                       Philosophy   \n",
       "\bStanford University                                (Computer Science   \n",
       "Stanford University           Energy Resource Engineering (Petroleum)   \n",
       "\bStanford University  Department Of Materials Science And Engineering   \n",
       "\n",
       "                         Degree Semester    Status Notification         Date  \\\n",
       "Name                                                                           \n",
       "\bStanford University       PhD         F  Rejected       E-mail  23-Mar-2018   \n",
       "\bStanford University       PhD         F  Rejected       E-mail  23-Mar-2018   \n",
       "\bStanford University   Masters         F     Other        Other  23-Mar-2018   \n",
       "Stanford University    Masters         F     Other        Other  23-Mar-2018   \n",
       "\bStanford University   Masters         F  Accepted       E-mail  22-Mar-2018   \n",
       "\n",
       "                      GPA GREV GREQ GREW Nationality    Post_Date  \\\n",
       "Name                                                                \n",
       "\bStanford University  n/a  n/a  n/a  n/a           I  24-Mar-2018   \n",
       "\bStanford University  n/a  n/a  n/a  n/a           A  23-Mar-2018   \n",
       "\bStanford University  n/a  n/a  n/a  n/a           O  23-Mar-2018   \n",
       "Stanford University   n/a  n/a  n/a  n/a           I  23-Mar-2018   \n",
       "\bStanford University  n/a  n/a  n/a  n/a           I  22-Mar-2018   \n",
       "\n",
       "                                                                Comment  \n",
       "Name                                                                     \n",
       "\bStanford University                                                NaN  \n",
       "\bStanford University                                                NaN  \n",
       "\bStanford University  To the posts regarding admits for Stanford  is...  \n",
       "Stanford University   Anyone still waiting for Energy Resource / Pet...  \n",
       "\bStanford University                                                NaN  "
      ]
     },
     "execution_count": 4,
     "metadata": {},
     "output_type": "execute_result"
    }
   ],
   "source": [
    "df = pd.DataFrame.from_csv('data/stanford.csv')\n",
    "df.head()"
   ]
  },
  {
   "cell_type": "code",
   "execution_count": 21,
   "metadata": {},
   "outputs": [
    {
     "data": {
      "text/html": [
       "<div>\n",
       "<style>\n",
       "    .dataframe thead tr:only-child th {\n",
       "        text-align: right;\n",
       "    }\n",
       "\n",
       "    .dataframe thead th {\n",
       "        text-align: left;\n",
       "    }\n",
       "\n",
       "    .dataframe tbody tr th {\n",
       "        vertical-align: top;\n",
       "    }\n",
       "</style>\n",
       "<table border=\"1\" class=\"dataframe\">\n",
       "  <thead>\n",
       "    <tr style=\"text-align: right;\">\n",
       "      <th></th>\n",
       "      <th>Major</th>\n",
       "      <th>Degree</th>\n",
       "      <th>Semester</th>\n",
       "      <th>Status</th>\n",
       "      <th>Notification</th>\n",
       "      <th>Date</th>\n",
       "      <th>GPA</th>\n",
       "      <th>GREV</th>\n",
       "      <th>GREQ</th>\n",
       "      <th>GREW</th>\n",
       "      <th>Nationality</th>\n",
       "      <th>Post_Date</th>\n",
       "      <th>Comment</th>\n",
       "    </tr>\n",
       "    <tr>\n",
       "      <th>Name</th>\n",
       "      <th></th>\n",
       "      <th></th>\n",
       "      <th></th>\n",
       "      <th></th>\n",
       "      <th></th>\n",
       "      <th></th>\n",
       "      <th></th>\n",
       "      <th></th>\n",
       "      <th></th>\n",
       "      <th></th>\n",
       "      <th></th>\n",
       "      <th></th>\n",
       "      <th></th>\n",
       "    </tr>\n",
       "  </thead>\n",
       "  <tbody>\n",
       "    <tr>\n",
       "      <th>\bStanford University</th>\n",
       "      <td>(Computer Science )</td>\n",
       "      <td>Masters</td>\n",
       "      <td>F</td>\n",
       "      <td>Rejected</td>\n",
       "      <td>E-mail</td>\n",
       "      <td>16-Mar-2018</td>\n",
       "      <td>3.78</td>\n",
       "      <td>154</td>\n",
       "      <td>167</td>\n",
       "      <td>4.00</td>\n",
       "      <td>A</td>\n",
       "      <td>19-Mar-2018</td>\n",
       "      <td>Received an email notifying to check the porta...</td>\n",
       "    </tr>\n",
       "    <tr>\n",
       "      <th>Stanford University</th>\n",
       "      <td>Materials Science And Engineering</td>\n",
       "      <td>PhD</td>\n",
       "      <td>F</td>\n",
       "      <td>Accepted</td>\n",
       "      <td>Website</td>\n",
       "      <td>25-Jan-2018</td>\n",
       "      <td>3.78</td>\n",
       "      <td>157</td>\n",
       "      <td>168</td>\n",
       "      <td>5.00</td>\n",
       "      <td>I</td>\n",
       "      <td>26-Jan-2018</td>\n",
       "      <td>NaN</td>\n",
       "    </tr>\n",
       "    <tr>\n",
       "      <th>Stanford University</th>\n",
       "      <td>Neurosciences (Biosciences)</td>\n",
       "      <td>PhD</td>\n",
       "      <td>F</td>\n",
       "      <td>Rejected</td>\n",
       "      <td>Website</td>\n",
       "      <td>22-Jan-2018</td>\n",
       "      <td>3.78</td>\n",
       "      <td>162</td>\n",
       "      <td>166</td>\n",
       "      <td>5.50</td>\n",
       "      <td>A</td>\n",
       "      <td>22-Jan-2018</td>\n",
       "      <td>Email to check website.  Was my first choice  ...</td>\n",
       "    </tr>\n",
       "    <tr>\n",
       "      <th>Stanford University</th>\n",
       "      <td>Materials Science And Engineering</td>\n",
       "      <td>Masters</td>\n",
       "      <td>F</td>\n",
       "      <td>Accepted</td>\n",
       "      <td>Other</td>\n",
       "      <td>17-Mar-2017</td>\n",
       "      <td>3.78</td>\n",
       "      <td>165</td>\n",
       "      <td>170</td>\n",
       "      <td>5.50</td>\n",
       "      <td>I</td>\n",
       "      <td>18-Mar-2017</td>\n",
       "      <td>NaN</td>\n",
       "    </tr>\n",
       "    <tr>\n",
       "      <th>Stanford University</th>\n",
       "      <td>ICME</td>\n",
       "      <td>Masters</td>\n",
       "      <td>F</td>\n",
       "      <td>Accepted</td>\n",
       "      <td>Website</td>\n",
       "      <td>15-Mar-2017</td>\n",
       "      <td>3.78</td>\n",
       "      <td>160</td>\n",
       "      <td>170</td>\n",
       "      <td>4.00</td>\n",
       "      <td>U</td>\n",
       "      <td>15-Mar-2017</td>\n",
       "      <td>Yay! Really expensive though</td>\n",
       "    </tr>\n",
       "  </tbody>\n",
       "</table>\n",
       "</div>"
      ],
      "text/plain": [
       "                                                  Major     Degree Semester  \\\n",
       "Name                                                                          \n",
       "\bStanford University                (Computer Science )   Masters         F   \n",
       "Stanford University   Materials Science And Engineering       PhD         F   \n",
       "Stanford University         Neurosciences (Biosciences)       PhD         F   \n",
       "Stanford University   Materials Science And Engineering   Masters         F   \n",
       "Stanford University                                ICME   Masters         F   \n",
       "\n",
       "                        Status Notification         Date   GPA GREV GREQ  \\\n",
       "Name                                                                       \n",
       "\bStanford University  Rejected       E-mail  16-Mar-2018  3.78  154  167   \n",
       "Stanford University   Accepted      Website  25-Jan-2018  3.78  157  168   \n",
       "Stanford University   Rejected      Website  22-Jan-2018  3.78  162  166   \n",
       "Stanford University   Accepted        Other  17-Mar-2017  3.78  165  170   \n",
       "Stanford University   Accepted      Website  15-Mar-2017  3.78  160  170   \n",
       "\n",
       "                      GREW Nationality    Post_Date  \\\n",
       "Name                                                  \n",
       "\bStanford University  4.00           A  19-Mar-2018   \n",
       "Stanford University   5.00           I  26-Jan-2018   \n",
       "Stanford University   5.50           A  22-Jan-2018   \n",
       "Stanford University   5.50           I  18-Mar-2017   \n",
       "Stanford University   4.00           U  15-Mar-2017   \n",
       "\n",
       "                                                                Comment  \n",
       "Name                                                                     \n",
       "\bStanford University  Received an email notifying to check the porta...  \n",
       "Stanford University                                                 NaN  \n",
       "Stanford University   Email to check website.  Was my first choice  ...  \n",
       "Stanford University                                                 NaN  \n",
       "Stanford University                        Yay! Really expensive though  "
      ]
     },
     "execution_count": 21,
     "metadata": {},
     "output_type": "execute_result"
    }
   ],
   "source": [
    "df[df['GPA']=='3.78'].head()"
   ]
  },
  {
   "cell_type": "markdown",
   "metadata": {},
   "source": [
    "To analyze stanford's GPAs more thouroughly, it would be helpful to convert the GPA column to the numeric type:"
   ]
  },
  {
   "cell_type": "code",
   "execution_count": 316,
   "metadata": {},
   "outputs": [
    {
     "data": {
      "text/html": [
       "<div>\n",
       "<style>\n",
       "    .dataframe thead tr:only-child th {\n",
       "        text-align: right;\n",
       "    }\n",
       "\n",
       "    .dataframe thead th {\n",
       "        text-align: left;\n",
       "    }\n",
       "\n",
       "    .dataframe tbody tr th {\n",
       "        vertical-align: top;\n",
       "    }\n",
       "</style>\n",
       "<table border=\"1\" class=\"dataframe\">\n",
       "  <thead>\n",
       "    <tr style=\"text-align: right;\">\n",
       "      <th></th>\n",
       "      <th>Major</th>\n",
       "      <th>Degree</th>\n",
       "      <th>Semester</th>\n",
       "      <th>Status</th>\n",
       "      <th>Notification</th>\n",
       "      <th>Date</th>\n",
       "      <th>GPA</th>\n",
       "      <th>GREV</th>\n",
       "      <th>GREQ</th>\n",
       "      <th>GREW</th>\n",
       "      <th>Nationality</th>\n",
       "      <th>Post_Date</th>\n",
       "      <th>Comment</th>\n",
       "    </tr>\n",
       "    <tr>\n",
       "      <th>Name</th>\n",
       "      <th></th>\n",
       "      <th></th>\n",
       "      <th></th>\n",
       "      <th></th>\n",
       "      <th></th>\n",
       "      <th></th>\n",
       "      <th></th>\n",
       "      <th></th>\n",
       "      <th></th>\n",
       "      <th></th>\n",
       "      <th></th>\n",
       "      <th></th>\n",
       "      <th></th>\n",
       "    </tr>\n",
       "  </thead>\n",
       "  <tbody>\n",
       "    <tr>\n",
       "      <th>\bStanford University</th>\n",
       "      <td>(Computer Science )</td>\n",
       "      <td>Masters</td>\n",
       "      <td>F</td>\n",
       "      <td>Accepted</td>\n",
       "      <td>E-mail</td>\n",
       "      <td>2018-03-17</td>\n",
       "      <td>3.96</td>\n",
       "      <td>159</td>\n",
       "      <td>169</td>\n",
       "      <td>4.00</td>\n",
       "      <td>I</td>\n",
       "      <td>2018-03-17</td>\n",
       "      <td>I think diversity does matter... Girls  go for...</td>\n",
       "    </tr>\n",
       "    <tr>\n",
       "      <th>Stanford University</th>\n",
       "      <td>Computer Science</td>\n",
       "      <td>Masters</td>\n",
       "      <td>F</td>\n",
       "      <td>Accepted</td>\n",
       "      <td>E-mail</td>\n",
       "      <td>2018-03-16</td>\n",
       "      <td>3.85</td>\n",
       "      <td>169</td>\n",
       "      <td>163</td>\n",
       "      <td>85.00</td>\n",
       "      <td>U</td>\n",
       "      <td>2018-03-16</td>\n",
       "      <td>UC Berkeley undergraduate. Teaching Assistant ...</td>\n",
       "    </tr>\n",
       "    <tr>\n",
       "      <th>Stanford University</th>\n",
       "      <td>Computer Science (CS)</td>\n",
       "      <td>Masters</td>\n",
       "      <td>F</td>\n",
       "      <td>Accepted</td>\n",
       "      <td>E-mail</td>\n",
       "      <td>2018-03-16</td>\n",
       "      <td>3.89</td>\n",
       "      <td>166</td>\n",
       "      <td>170</td>\n",
       "      <td>4.50</td>\n",
       "      <td>I</td>\n",
       "      <td>2018-03-16</td>\n",
       "      <td>Same poster as below; correction: email receiv...</td>\n",
       "    </tr>\n",
       "    <tr>\n",
       "      <th>\bStanford University</th>\n",
       "      <td>Computer Science</td>\n",
       "      <td>Masters</td>\n",
       "      <td>F</td>\n",
       "      <td>Accepted</td>\n",
       "      <td>Website</td>\n",
       "      <td>2018-03-16</td>\n",
       "      <td>3.96</td>\n",
       "      <td>163</td>\n",
       "      <td>170</td>\n",
       "      <td>4.50</td>\n",
       "      <td>I</td>\n",
       "      <td>2018-03-16</td>\n",
       "      <td>Just checked the website and saw my decision. ...</td>\n",
       "    </tr>\n",
       "    <tr>\n",
       "      <th>Stanford University</th>\n",
       "      <td>Computer Science</td>\n",
       "      <td>Masters</td>\n",
       "      <td>F</td>\n",
       "      <td>Accepted</td>\n",
       "      <td>Website</td>\n",
       "      <td>2018-03-16</td>\n",
       "      <td>3.92</td>\n",
       "      <td>168</td>\n",
       "      <td>169</td>\n",
       "      <td>5.00</td>\n",
       "      <td>A</td>\n",
       "      <td>2018-03-16</td>\n",
       "      <td>NaN</td>\n",
       "    </tr>\n",
       "  </tbody>\n",
       "</table>\n",
       "</div>"
      ],
      "text/plain": [
       "                                      Major     Degree Semester    Status  \\\n",
       "Name                                                                        \n",
       "\bStanford University    (Computer Science )   Masters         F  Accepted   \n",
       "Stanford University        Computer Science   Masters         F  Accepted   \n",
       "Stanford University   Computer Science (CS)   Masters         F  Accepted   \n",
       "\bStanford University       Computer Science   Masters         F  Accepted   \n",
       "Stanford University        Computer Science   Masters         F  Accepted   \n",
       "\n",
       "                     Notification       Date   GPA GREV GREQ   GREW  \\\n",
       "Name                                                                  \n",
       "\bStanford University       E-mail 2018-03-17  3.96  159  169   4.00   \n",
       "Stanford University        E-mail 2018-03-16  3.85  169  163  85.00   \n",
       "Stanford University        E-mail 2018-03-16  3.89  166  170   4.50   \n",
       "\bStanford University      Website 2018-03-16  3.96  163  170   4.50   \n",
       "Stanford University       Website 2018-03-16  3.92  168  169   5.00   \n",
       "\n",
       "                     Nationality  Post_Date  \\\n",
       "Name                                          \n",
       "\bStanford University           I 2018-03-17   \n",
       "Stanford University            U 2018-03-16   \n",
       "Stanford University            I 2018-03-16   \n",
       "\bStanford University           I 2018-03-16   \n",
       "Stanford University            A 2018-03-16   \n",
       "\n",
       "                                                                Comment  \n",
       "Name                                                                     \n",
       "\bStanford University  I think diversity does matter... Girls  go for...  \n",
       "Stanford University   UC Berkeley undergraduate. Teaching Assistant ...  \n",
       "Stanford University   Same poster as below; correction: email receiv...  \n",
       "\bStanford University  Just checked the website and saw my decision. ...  \n",
       "Stanford University                                                 NaN  "
      ]
     },
     "execution_count": 316,
     "metadata": {},
     "output_type": "execute_result"
    }
   ],
   "source": [
    "valid = df[df['GPA']!='n/a']\n",
    "valid = valid[valid['GPA']>'2.00']\n",
    "valid = valid[valid['GPA']<'4.00']\n",
    "valid[valid['Status']=='Accepted'].head()"
   ]
  },
  {
   "cell_type": "code",
   "execution_count": 69,
   "metadata": {},
   "outputs": [
    {
     "data": {
      "text/html": [
       "<div>\n",
       "<style>\n",
       "    .dataframe thead tr:only-child th {\n",
       "        text-align: right;\n",
       "    }\n",
       "\n",
       "    .dataframe thead th {\n",
       "        text-align: left;\n",
       "    }\n",
       "\n",
       "    .dataframe tbody tr th {\n",
       "        vertical-align: top;\n",
       "    }\n",
       "</style>\n",
       "<table border=\"1\" class=\"dataframe\">\n",
       "  <thead>\n",
       "    <tr style=\"text-align: right;\">\n",
       "      <th></th>\n",
       "      <th>Major</th>\n",
       "      <th>Degree</th>\n",
       "      <th>Semester</th>\n",
       "      <th>Status</th>\n",
       "      <th>Notification</th>\n",
       "      <th>Date</th>\n",
       "      <th>GPA</th>\n",
       "      <th>GREV</th>\n",
       "      <th>GREQ</th>\n",
       "      <th>GREW</th>\n",
       "      <th>Nationality</th>\n",
       "      <th>Post_Date</th>\n",
       "      <th>Comment</th>\n",
       "    </tr>\n",
       "    <tr>\n",
       "      <th>Name</th>\n",
       "      <th></th>\n",
       "      <th></th>\n",
       "      <th></th>\n",
       "      <th></th>\n",
       "      <th></th>\n",
       "      <th></th>\n",
       "      <th></th>\n",
       "      <th></th>\n",
       "      <th></th>\n",
       "      <th></th>\n",
       "      <th></th>\n",
       "      <th></th>\n",
       "      <th></th>\n",
       "    </tr>\n",
       "  </thead>\n",
       "  <tbody>\n",
       "    <tr>\n",
       "      <th>\bStanford University</th>\n",
       "      <td>(Computer Science )</td>\n",
       "      <td>Masters</td>\n",
       "      <td>F</td>\n",
       "      <td>Rejected</td>\n",
       "      <td>E-mail</td>\n",
       "      <td>16-Mar-2018</td>\n",
       "      <td>3.78</td>\n",
       "      <td>154</td>\n",
       "      <td>167</td>\n",
       "      <td>4.00</td>\n",
       "      <td>A</td>\n",
       "      <td>19-Mar-2018</td>\n",
       "      <td>Received an email notifying to check the porta...</td>\n",
       "    </tr>\n",
       "    <tr>\n",
       "      <th>\bStanford University</th>\n",
       "      <td>French</td>\n",
       "      <td>PhD</td>\n",
       "      <td>F</td>\n",
       "      <td>Rejected</td>\n",
       "      <td>E-mail</td>\n",
       "      <td>17-Mar-2018</td>\n",
       "      <td>3.86</td>\n",
       "      <td>156</td>\n",
       "      <td>150</td>\n",
       "      <td>5.00</td>\n",
       "      <td>A</td>\n",
       "      <td>17-Mar-2018</td>\n",
       "      <td>Shortlisted and attended the visit (which went...</td>\n",
       "    </tr>\n",
       "    <tr>\n",
       "      <th>\bStanford University</th>\n",
       "      <td>(Computer Science )</td>\n",
       "      <td>Masters</td>\n",
       "      <td>F</td>\n",
       "      <td>Accepted</td>\n",
       "      <td>E-mail</td>\n",
       "      <td>17-Mar-2018</td>\n",
       "      <td>3.96</td>\n",
       "      <td>159</td>\n",
       "      <td>169</td>\n",
       "      <td>4.00</td>\n",
       "      <td>I</td>\n",
       "      <td>17-Mar-2018</td>\n",
       "      <td>I think diversity does matter... Girls  go for...</td>\n",
       "    </tr>\n",
       "    <tr>\n",
       "      <th>\bStanford University</th>\n",
       "      <td>(Computer Science )</td>\n",
       "      <td>Masters</td>\n",
       "      <td>F</td>\n",
       "      <td>Rejected</td>\n",
       "      <td>E-mail</td>\n",
       "      <td>16-Mar-2018</td>\n",
       "      <td>3.70</td>\n",
       "      <td>156</td>\n",
       "      <td>162</td>\n",
       "      <td>4.00</td>\n",
       "      <td>A</td>\n",
       "      <td>17-Mar-2018</td>\n",
       "      <td>2 letters of rec from distinguished Stanford g...</td>\n",
       "    </tr>\n",
       "    <tr>\n",
       "      <th>\bStanford University</th>\n",
       "      <td>(Computer Science )</td>\n",
       "      <td>Masters</td>\n",
       "      <td>F</td>\n",
       "      <td>Rejected</td>\n",
       "      <td>E-mail</td>\n",
       "      <td>16-Mar-2018</td>\n",
       "      <td>3.77</td>\n",
       "      <td>161</td>\n",
       "      <td>166</td>\n",
       "      <td>4.00</td>\n",
       "      <td>O</td>\n",
       "      <td>16-Mar-2018</td>\n",
       "      <td>Received an email</td>\n",
       "    </tr>\n",
       "  </tbody>\n",
       "</table>\n",
       "</div>"
      ],
      "text/plain": [
       "                                    Major     Degree Semester    Status  \\\n",
       "Name                                                                      \n",
       "\bStanford University  (Computer Science )   Masters         F  Rejected   \n",
       "\bStanford University               French       PhD         F  Rejected   \n",
       "\bStanford University  (Computer Science )   Masters         F  Accepted   \n",
       "\bStanford University  (Computer Science )   Masters         F  Rejected   \n",
       "\bStanford University  (Computer Science )   Masters         F  Rejected   \n",
       "\n",
       "                     Notification         Date   GPA GREV GREQ  GREW  \\\n",
       "Name                                                                   \n",
       "\bStanford University       E-mail  16-Mar-2018  3.78  154  167  4.00   \n",
       "\bStanford University       E-mail  17-Mar-2018  3.86  156  150  5.00   \n",
       "\bStanford University       E-mail  17-Mar-2018  3.96  159  169  4.00   \n",
       "\bStanford University       E-mail  16-Mar-2018  3.70  156  162  4.00   \n",
       "\bStanford University       E-mail  16-Mar-2018  3.77  161  166  4.00   \n",
       "\n",
       "                     Nationality    Post_Date  \\\n",
       "Name                                            \n",
       "\bStanford University           A  19-Mar-2018   \n",
       "\bStanford University           A  17-Mar-2018   \n",
       "\bStanford University           I  17-Mar-2018   \n",
       "\bStanford University           A  17-Mar-2018   \n",
       "\bStanford University           O  16-Mar-2018   \n",
       "\n",
       "                                                                Comment  \n",
       "Name                                                                     \n",
       "\bStanford University  Received an email notifying to check the porta...  \n",
       "\bStanford University  Shortlisted and attended the visit (which went...  \n",
       "\bStanford University  I think diversity does matter... Girls  go for...  \n",
       "\bStanford University  2 letters of rec from distinguished Stanford g...  \n",
       "\bStanford University                                  Received an email  "
      ]
     },
     "execution_count": 69,
     "metadata": {},
     "output_type": "execute_result"
    }
   ],
   "source": [
    "df['GPA'] = df['GPA'].apply(pd.to_numeric, errors='coerce')\n",
    "valid = df[df['GPA']>1.0]\n",
    "valid = df[df['GPA']<4.0]\n",
    "valid.head()"
   ]
  },
  {
   "cell_type": "markdown",
   "metadata": {},
   "source": [
    "Stanford applicants' average GPA (at thegradcafe):"
   ]
  },
  {
   "cell_type": "code",
   "execution_count": 153,
   "metadata": {},
   "outputs": [
    {
     "data": {
      "text/plain": [
       "3.729062500000002"
      ]
     },
     "execution_count": 153,
     "metadata": {},
     "output_type": "execute_result"
    }
   ],
   "source": [
    "np.mean(valid['GPA'])"
   ]
  },
  {
   "cell_type": "markdown",
   "metadata": {},
   "source": [
    "Average GPA for accepted students"
   ]
  },
  {
   "cell_type": "code",
   "execution_count": 154,
   "metadata": {},
   "outputs": [
    {
     "data": {
      "text/plain": [
       "3.7792045454545455"
      ]
     },
     "execution_count": 154,
     "metadata": {},
     "output_type": "execute_result"
    }
   ],
   "source": [
    "np.mean(valid[valid['Status']=='Accepted']['GPA'])"
   ]
  },
  {
   "cell_type": "markdown",
   "metadata": {},
   "source": [
    "Average GPA for rejected students"
   ]
  },
  {
   "cell_type": "code",
   "execution_count": 155,
   "metadata": {},
   "outputs": [
    {
     "data": {
      "text/plain": [
       "3.696991404011463"
      ]
     },
     "execution_count": 155,
     "metadata": {},
     "output_type": "execute_result"
    }
   ],
   "source": [
    "np.mean(valid[valid['Status']=='Rejected']['GPA'])"
   ]
  },
  {
   "cell_type": "markdown",
   "metadata": {},
   "source": [
    "We can do the same for other columns, such as the GRE scores:"
   ]
  },
  {
   "cell_type": "code",
   "execution_count": 99,
   "metadata": {},
   "outputs": [
    {
     "data": {
      "text/html": [
       "<div>\n",
       "<style>\n",
       "    .dataframe thead tr:only-child th {\n",
       "        text-align: right;\n",
       "    }\n",
       "\n",
       "    .dataframe thead th {\n",
       "        text-align: left;\n",
       "    }\n",
       "\n",
       "    .dataframe tbody tr th {\n",
       "        vertical-align: top;\n",
       "    }\n",
       "</style>\n",
       "<table border=\"1\" class=\"dataframe\">\n",
       "  <thead>\n",
       "    <tr style=\"text-align: right;\">\n",
       "      <th></th>\n",
       "      <th>Major</th>\n",
       "      <th>Degree</th>\n",
       "      <th>Semester</th>\n",
       "      <th>Status</th>\n",
       "      <th>Notification</th>\n",
       "      <th>Date</th>\n",
       "      <th>GPA</th>\n",
       "      <th>GREV</th>\n",
       "      <th>GREQ</th>\n",
       "      <th>GREW</th>\n",
       "      <th>Nationality</th>\n",
       "      <th>Post_Date</th>\n",
       "      <th>Comment</th>\n",
       "    </tr>\n",
       "    <tr>\n",
       "      <th>Name</th>\n",
       "      <th></th>\n",
       "      <th></th>\n",
       "      <th></th>\n",
       "      <th></th>\n",
       "      <th></th>\n",
       "      <th></th>\n",
       "      <th></th>\n",
       "      <th></th>\n",
       "      <th></th>\n",
       "      <th></th>\n",
       "      <th></th>\n",
       "      <th></th>\n",
       "      <th></th>\n",
       "    </tr>\n",
       "  </thead>\n",
       "  <tbody>\n",
       "    <tr>\n",
       "      <th>\bStanford University</th>\n",
       "      <td>Symbolic Systems</td>\n",
       "      <td>Masters</td>\n",
       "      <td>F</td>\n",
       "      <td>Accepted</td>\n",
       "      <td>E-mail</td>\n",
       "      <td>15-Mar-2018</td>\n",
       "      <td>NaN</td>\n",
       "      <td>162.0</td>\n",
       "      <td>169.0</td>\n",
       "      <td>4.0</td>\n",
       "      <td>U</td>\n",
       "      <td>20-Mar-2018</td>\n",
       "      <td>Really grateful. I Look forward to the open ho...</td>\n",
       "    </tr>\n",
       "    <tr>\n",
       "      <th>\bStanford University</th>\n",
       "      <td>(Computer Science )</td>\n",
       "      <td>Masters</td>\n",
       "      <td>F</td>\n",
       "      <td>Rejected</td>\n",
       "      <td>E-mail</td>\n",
       "      <td>16-Mar-2018</td>\n",
       "      <td>3.78</td>\n",
       "      <td>154.0</td>\n",
       "      <td>167.0</td>\n",
       "      <td>4.0</td>\n",
       "      <td>A</td>\n",
       "      <td>19-Mar-2018</td>\n",
       "      <td>Received an email notifying to check the porta...</td>\n",
       "    </tr>\n",
       "    <tr>\n",
       "      <th>\bStanford University</th>\n",
       "      <td>Advanced Mechanical Engineering</td>\n",
       "      <td>Masters</td>\n",
       "      <td>F</td>\n",
       "      <td>Accepted</td>\n",
       "      <td>E-mail</td>\n",
       "      <td>13-Mar-2018</td>\n",
       "      <td>4.00</td>\n",
       "      <td>156.0</td>\n",
       "      <td>170.0</td>\n",
       "      <td>5.0</td>\n",
       "      <td>I</td>\n",
       "      <td>17-Mar-2018</td>\n",
       "      <td>Undergrad from IIT Madras  interned at ITV RWT...</td>\n",
       "    </tr>\n",
       "    <tr>\n",
       "      <th>\bStanford University</th>\n",
       "      <td>(Computer Science</td>\n",
       "      <td>Masters</td>\n",
       "      <td>F</td>\n",
       "      <td>Rejected</td>\n",
       "      <td>E-mail</td>\n",
       "      <td>16-Mar-2018</td>\n",
       "      <td>NaN</td>\n",
       "      <td>168.0</td>\n",
       "      <td>170.0</td>\n",
       "      <td>4.0</td>\n",
       "      <td>I</td>\n",
       "      <td>17-Mar-2018</td>\n",
       "      <td>Reading previous posts  I wasn't expecting a r...</td>\n",
       "    </tr>\n",
       "    <tr>\n",
       "      <th>\bStanford University</th>\n",
       "      <td>(Computer Science )</td>\n",
       "      <td>Masters</td>\n",
       "      <td>F</td>\n",
       "      <td>Rejected</td>\n",
       "      <td>E-mail</td>\n",
       "      <td>17-Mar-2018</td>\n",
       "      <td>NaN</td>\n",
       "      <td>165.0</td>\n",
       "      <td>166.0</td>\n",
       "      <td>4.0</td>\n",
       "      <td>I</td>\n",
       "      <td>17-Mar-2018</td>\n",
       "      <td>EE undergrad from a top 3 African university. ...</td>\n",
       "    </tr>\n",
       "  </tbody>\n",
       "</table>\n",
       "</div>"
      ],
      "text/plain": [
       "                                                Major     Degree Semester  \\\n",
       "Name                                                                        \n",
       "\bStanford University                 Symbolic Systems   Masters         F   \n",
       "\bStanford University              (Computer Science )   Masters         F   \n",
       "\bStanford University  Advanced Mechanical Engineering   Masters         F   \n",
       "\bStanford University                (Computer Science   Masters         F   \n",
       "\bStanford University              (Computer Science )   Masters         F   \n",
       "\n",
       "                        Status Notification         Date   GPA   GREV   GREQ  \\\n",
       "Name                                                                           \n",
       "\bStanford University  Accepted       E-mail  15-Mar-2018   NaN  162.0  169.0   \n",
       "\bStanford University  Rejected       E-mail  16-Mar-2018  3.78  154.0  167.0   \n",
       "\bStanford University  Accepted       E-mail  13-Mar-2018  4.00  156.0  170.0   \n",
       "\bStanford University  Rejected       E-mail  16-Mar-2018   NaN  168.0  170.0   \n",
       "\bStanford University  Rejected       E-mail  17-Mar-2018   NaN  165.0  166.0   \n",
       "\n",
       "                      GREW Nationality    Post_Date  \\\n",
       "Name                                                  \n",
       "\bStanford University   4.0           U  20-Mar-2018   \n",
       "\bStanford University   4.0           A  19-Mar-2018   \n",
       "\bStanford University   5.0           I  17-Mar-2018   \n",
       "\bStanford University   4.0           I  17-Mar-2018   \n",
       "\bStanford University   4.0           I  17-Mar-2018   \n",
       "\n",
       "                                                                Comment  \n",
       "Name                                                                     \n",
       "\bStanford University  Really grateful. I Look forward to the open ho...  \n",
       "\bStanford University  Received an email notifying to check the porta...  \n",
       "\bStanford University  Undergrad from IIT Madras  interned at ITV RWT...  \n",
       "\bStanford University  Reading previous posts  I wasn't expecting a r...  \n",
       "\bStanford University  EE undergrad from a top 3 African university. ...  "
      ]
     },
     "execution_count": 99,
     "metadata": {},
     "output_type": "execute_result"
    }
   ],
   "source": [
    "df[['GREV','GREQ','GREW']] = df[['GREV','GREQ','GREW']].apply(pd.to_numeric, errors='coerce')\n",
    "valid = df[df['GREV']>100]\n",
    "valid = valid[valid['GREV']<=170]\n",
    "valid = valid[valid['GREV']>80]\n",
    "valid = valid[valid['GREQ']<=170]\n",
    "valid = valid[valid['GREQ']>80]\n",
    "valid = valid[valid['GREW']<=6.0]\n",
    "valid.head()"
   ]
  },
  {
   "cell_type": "markdown",
   "metadata": {},
   "source": [
    "GRE averages:"
   ]
  },
  {
   "cell_type": "code",
   "execution_count": 100,
   "metadata": {},
   "outputs": [
    {
     "data": {
      "text/plain": [
       "GREV    161.213989\n",
       "GREQ    165.159280\n",
       "GREW      4.323753\n",
       "dtype: float64"
      ]
     },
     "execution_count": 100,
     "metadata": {},
     "output_type": "execute_result"
    }
   ],
   "source": [
    "np.mean(valid[['GREV','GREQ','GREW']])"
   ]
  },
  {
   "cell_type": "code",
   "execution_count": 120,
   "metadata": {},
   "outputs": [],
   "source": [
    "valid = valid[valid['GPA']>1.0]\n",
    "valid = valid[valid['GPA']<4.0]\n",
    "accepted = valid[valid['Status']=='Accepted']\n",
    "rejected = valid[valid['Status']=='Rejected']\n",
    "# valid.plot.scatter(x='GREQ', y='GREV')"
   ]
  },
  {
   "cell_type": "markdown",
   "metadata": {},
   "source": [
    "A scatter plot indicating acceptances and rejections:"
   ]
  },
  {
   "cell_type": "code",
   "execution_count": 122,
   "metadata": {},
   "outputs": [
    {
     "data": {
      "text/plain": [
       "<matplotlib.axes._subplots.AxesSubplot at 0x2070c0e8710>"
      ]
     },
     "execution_count": 122,
     "metadata": {},
     "output_type": "execute_result"
    },
    {
     "data": {
      "image/png": "[encoded data removed]",
      "text/plain": [
       "<matplotlib.figure.Figure at 0x2070c0f83c8>"
      ]
     },
     "metadata": {},
     "output_type": "display_data"
    }
   ],
   "source": [
    "ax = plt.gca()\n",
    "rejected.plot.scatter(x='GREQ', y='GPA',ax=ax, color='Red',  label='Rejected')\n",
    "accepted.plot.scatter(x='GREQ', y='GPA',ax=ax, color='Green',  label='Accepted')"
   ]
  },
  {
   "cell_type": "markdown",
   "metadata": {},
   "source": [
    "Now we easily can do the same with with any university or search parameters we want. For example, let's try generating Yale's\n",
    "data:"
   ]
  },
  {
   "cell_type": "code",
   "execution_count": 146,
   "metadata": {
    "collapsed": true
   },
   "outputs": [],
   "source": [
    "# get_data('Yale University', 'data/yale.csv') # This will scrape, preprocess, and store the search results in yale.csv"
   ]
  },
  {
   "cell_type": "code",
   "execution_count": 147,
   "metadata": {},
   "outputs": [],
   "source": [
    "df = pd.DataFrame.from_csv('data/yale.csv')\n",
    "df[['GREV','GREQ','GREW','GPA']] = df[['GREV','GREQ','GREW','GPA']].apply(pd.to_numeric, errors='coerce')\n",
    "valid = df[df['GREV']>100]\n",
    "valid = valid[valid['GREV']<=170]\n",
    "valid = valid[valid['GREV']>80]\n",
    "valid = valid[valid['GREQ']<=170]\n",
    "valid = valid[valid['GREQ']>80]\n",
    "valid = valid[valid['GREW']<=6.0]\n",
    "valid = valid[valid['GPA']>1.0]\n",
    "valid = valid[valid['GPA']<4.0]\n",
    "accepted = valid[valid['Status']=='Accepted']\n",
    "rejected = valid[valid['Status']=='Rejected']"
   ]
  },
  {
   "cell_type": "code",
   "execution_count": 149,
   "metadata": {},
   "outputs": [
    {
     "data": {
      "text/plain": [
       "<matplotlib.axes._subplots.AxesSubplot at 0x2070c77f278>"
      ]
     },
     "execution_count": 149,
     "metadata": {},
     "output_type": "execute_result"
    },
    {
     "data": {
      "image/png": "[encoded data removed]",
      "text/plain": [
       "<matplotlib.figure.Figure at 0x2070c772dd8>"
      ]
     },
     "metadata": {},
     "output_type": "display_data"
    }
   ],
   "source": [
    "ax = rejected.plot.scatter(x='GREQ', y='GPA', color='Red',  label='Rejected')\n",
    "accepted.plot.scatter(x='GREQ', y='GPA',ax=ax, color='Green',  label='Accepted')"
   ]
  },
  {
   "cell_type": "markdown",
   "metadata": {},
   "source": [
    "Now, we may want to determine the distribution of students that applied with American undergrad degrees or students that applied internationally.\n",
    "<br><br>\n",
    "Status codes: A: American; U: International, with US degree; I: International, without US degree; O: Other; ?: Unknown"
   ]
  },
  {
   "cell_type": "code",
   "execution_count": 301,
   "metadata": {},
   "outputs": [
    {
     "data": {
      "text/plain": [
       "<matplotlib.axes._subplots.AxesSubplot at 0x207124ee588>"
      ]
     },
     "execution_count": 301,
     "metadata": {},
     "output_type": "execute_result"
    },
    {
     "data": {
      "image/png": "[encoded data removed]",
      "text/plain": [
       "<matplotlib.figure.Figure at 0x207124e5f28>"
      ]
     },
     "metadata": {},
     "output_type": "display_data"
    }
   ],
   "source": [
    "df = pd.DataFrame.from_csv('data/stanford.csv')\n",
    "pie_data = (len(df[df['Nationality']=='A']), len(df[df['Nationality']=='U']), len(df[df['Nationality']=='I']),\n",
    "            len(df[df['Nationality']=='O']))\n",
    "pie_data = pd.Series(pie_data, index= ['A','U','I','O'], name='Stanford')\n",
    "pie_data.plot.pie(labels=['American','International, with US degree','International, without US degree','Other'],\n",
    "                  figsize=(8,8), fontsize=15)\n"
   ]
  },
  {
   "cell_type": "markdown",
   "metadata": {},
   "source": [
    "We can do the same for Georgia Tech's computer science applicants only. I have the corresponding data stored in 'data/gatech_cs.csv'.\n",
    "<br><br>\n",
    "We can also further limit the plot to just accepted students, rejected students, PhD students only etc.\n",
    "<br> <br>\n",
    "To generate this particular data, we would call: get_data('Georgia Institute Of Technology computer science', 'data/gatech_cs.csv')"
   ]
  },
  {
   "cell_type": "code",
   "execution_count": 308,
   "metadata": {},
   "outputs": [
    {
     "data": {
      "text/plain": [
       "<matplotlib.axes._subplots.AxesSubplot at 0x20712a32390>"
      ]
     },
     "execution_count": 308,
     "metadata": {},
     "output_type": "execute_result"
    },
    {
     "data": {
      "image/png": "[encoded data removed]",
      "text/plain": [
       "<matplotlib.figure.Figure at 0x20712c2dfd0>"
      ]
     },
     "metadata": {},
     "output_type": "display_data"
    }
   ],
   "source": [
    "df = pd.DataFrame.from_csv('data/gatech_cs.csv')\n",
    "df = df[df['Status']=='Accepted']\n",
    "pie_data = (len(df[df['Nationality']=='A']), len(df[df['Nationality']=='U']), len(df[df['Nationality']=='I']),\n",
    "            len(df[df['Nationality']=='O']))\n",
    "pie_data = pd.Series(pie_data, index= ['A','U','I','O'], name='GA tech CS Accepted')\n",
    "pie_data.plot.pie(labels=['American','International, with US degree','International, without US degree','Other'],\n",
    "                  figsize=(8,8), fontsize=15)"
   ]
  },
  {
   "cell_type": "markdown",
   "metadata": {},
   "source": [
    "One of the most frustrating parts of applying to graduate schools is waiting for university responses. A common question for many is about when to expect a response from a university. And many wonder if not receiving a response by March means that they have already been rejected. So it would be very useful for many applicants to know when they should expect notifications from their university."
   ]
  },
  {
   "cell_type": "code",
   "execution_count": 309,
   "metadata": {},
   "outputs": [
    {
     "data": {
      "text/plain": [
       "<matplotlib.axes._subplots.AxesSubplot at 0x20712975f60>"
      ]
     },
     "execution_count": 309,
     "metadata": {},
     "output_type": "execute_result"
    },
    {
     "data": {
      "image/png": "[encoded data removed]",
      "text/plain": [
       "<matplotlib.figure.Figure at 0x207127cef98>"
      ]
     },
     "metadata": {},
     "output_type": "display_data"
    }
   ],
   "source": [
    "df = pd.DataFrame.from_csv('data/gatech_cs.csv')\n",
    "pd.to_datetime(['2005/11/23', '2010.12.31', '15-Mar-2018'])\n",
    "df[['Date','Post_Date']] = df[['Date','Post_Date']].apply(pd.to_datetime, errors='coerce')\n",
    "\n",
    "accepted = df[df['Status']=='Accepted']\n",
    "rejected = df[df['Status']=='Rejected']\n",
    "\n",
    "a_bar = accepted['Date'].groupby(accepted['Date'].dt.month).count()\n",
    "r_bar = rejected['Date'].groupby(rejected['Date'].dt.month).count()\n",
    "\n",
    "a_bar = pd.DataFrame(a_bar)\n",
    "a_bar.rename(columns={'Date':'Count'}, inplace=True)\n",
    "a_bar.index.name = 'Month'\n",
    "\n",
    "r_bar = pd.DataFrame(r_bar)\n",
    "r_bar.rename(columns={'Date':'Count'}, inplace=True)\n",
    "r_bar.index.name = 'Month'\n",
    "\n",
    "result = a_bar.join(r_bar, lsuffix='_accepted', rsuffix='_rejected')\n",
    "\n",
    "result.plot(kind='bar', figsize=(8,8))"
   ]
  },
  {
   "cell_type": "markdown",
   "metadata": {},
   "source": [
    "As can be seen from the histogram above, most accepted students are notified in February and March. And if an applicant has not received an acceptance by April, it is very likely a rejection (for this particular program).\n",
    "<br> <br>\n",
    "Below, Stanford's histogram is displayed for comparison. As can be seen, Stanford's rejections and acceptances tend to come out earlier."
   ]
  },
  {
   "cell_type": "code",
   "execution_count": 314,
   "metadata": {},
   "outputs": [
    {
     "data": {
      "text/plain": [
       "<matplotlib.axes._subplots.AxesSubplot at 0x2071519e550>"
      ]
     },
     "execution_count": 314,
     "metadata": {},
     "output_type": "execute_result"
    },
    {
     "data": {
      "image/png": "[encoded data removed]",
      "text/plain": [
       "<matplotlib.figure.Figure at 0x20715178b38>"
      ]
     },
     "metadata": {},
     "output_type": "display_data"
    }
   ],
   "source": [
    "df = pd.DataFrame.from_csv('data/stanford.csv')\n",
    "pd.to_datetime(['2005/11/23', '2010.12.31', '15-Mar-2018'])\n",
    "df[['Date','Post_Date']] = df[['Date','Post_Date']].apply(pd.to_datetime, errors='coerce')\n",
    "\n",
    "accepted = df[df['Status']=='Accepted']\n",
    "rejected = df[df['Status']=='Rejected']\n",
    "\n",
    "a_bar = accepted['Date'].groupby(accepted['Date'].dt.month).count()\n",
    "r_bar = rejected['Date'].groupby(rejected['Date'].dt.month).count()\n",
    "\n",
    "a_bar = pd.DataFrame(a_bar)\n",
    "a_bar.rename(columns={'Date':'Count'}, inplace=True)\n",
    "a_bar.index.name = 'Month'\n",
    "\n",
    "r_bar = pd.DataFrame(r_bar)\n",
    "r_bar.rename(columns={'Date':'Count'}, inplace=True)\n",
    "r_bar.index.name = 'Month'\n",
    "\n",
    "result = a_bar.join(r_bar, lsuffix='_accepted', rsuffix='_rejected')\n",
    "\n",
    "result.plot(kind='bar', figsize=(8,8))"
   ]
  },
  {
   "cell_type": "markdown",
   "metadata": {},
   "source": [
    "### Possible Applications and Future"
   ]
  },
  {
   "cell_type": "markdown",
   "metadata": {},
   "source": [
    "As can be seen, there are a lot of different summaries that can be gleaned from the datasets. Universities can easily be compared and application data easily visualized.\n",
    "\n",
    "In the future, I hope to be able to provide an extensive report tailored to the users needs. For example, the user will be able to provide a search string, and the application will create and display an extensive report, including visuals and comprehensive summaries of the search data (such as average GPAs of applicants, the month of expected notification, etc.)\n",
    "\n",
    "Or, a user may provide multiple universities and the application will provide metrics and visualizations that compare the various universities.\n",
    "\n",
    "The comments column of the data has so far been ignored. However, these comments usually contain some essential application data such as the number of publications that the applicant has, letter of recommendation, internships, etc.\n",
    "\n",
    "It is possible to extract valuable information from the comments section. For example, we could find the acceptance rates among appicants who have paublications.\n",
    "\n",
    "In the end I hope to train models on the available data and provide users with their acceptances probabilities for the universities that they chose."
   ]
  }
 ],
 "metadata": {
  "kernelspec": {
   "display_name": "Python 3",
   "language": "python",
   "name": "python3"
  },
  "language_info": {
   "codemirror_mode": {
    "name": "ipython",
    "version": 3
   },
   "file_extension": ".py",
   "mimetype": "text/x-python",
   "name": "python",
   "nbconvert_exporter": "python",
   "pygments_lexer": "ipython3",
   "version": "3.6.3"
  }
 },
 "nbformat": 4,
 "nbformat_minor": 2
}
